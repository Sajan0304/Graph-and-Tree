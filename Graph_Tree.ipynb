{
 "cells": [
  {
   "cell_type": "code",
   "execution_count": null,
   "id": "ba8194e7",
   "metadata": {},
   "outputs": [
    {
     "name": "stdout",
     "output_type": "stream",
     "text": [
      "['s4', 's1', 's3', 's5', 's2']\n"
     ]
    }
   ],
   "source": [
    "# Write a code to find the degree of each vertex, and store it in a dictionary. Sort the keys of the dictionary by the degree stored in the values.\n",
    "\n",
    "\n",
    "# Adjacency list for undirected condition\n",
    "un_dict={\"s1\":[\"s2\",\"s5\"],\"s2\":[\"s1\",\"s3\",\"s5\"],\"s3\":[\"s2\",\"s4\"],\"s4\":[\"s3\"],\"s5\":[\"s1\",\"s2\"]}\n",
    "\n",
    "def degree_of_each_node(un_dict):\n",
    "    my_dict={}\n",
    "    for key, values in un_dict.items():\n",
    "        my_dict[key]=len(values)\n",
    "        sorted_dict=sorted(my_dict.keys(), key=lambda x: my_dict[x]) # sort the keys based on their value.\n",
    "        \n",
    "    return sorted_dict\n",
    "print(degree_of_each_node(un_dict))\n"
   ]
  },
  {
   "cell_type": "code",
   "execution_count": 2,
   "id": "54b4dfd6",
   "metadata": {},
   "outputs": [
    {
     "name": "stdout",
     "output_type": "stream",
     "text": [
      "[[0, 1, 0, 0, 1], [1, 0, 1, 0, 1], [0, 1, 0, 1, 0], [0, 0, 1, 0, 0], [1, 1, 0, 0, 0]]\n"
     ]
    }
   ],
   "source": [
    "# Write a code to inter-convert the 3 graph representations we have learnt.\n",
    "\n",
    "#1 Adjacency list to adjacency matrix\n",
    "\n",
    "# Node point\n",
    "Node_point=[\"s1\",\"s2\",\"s3\",\"s4\",\"s5\"]\n",
    "# Adjacency list for undirected condition\n",
    "un_dict={\"s1\":[\"s2\",\"s5\"],\"s2\":[\"s1\",\"s3\",\"s5\"],\"s3\":[\"s2\",\"s4\"],\"s4\":[\"s3\"],\"s5\":[\"s1\",\"s2\"]}\n",
    "\n",
    "def Ac_list_to_matrix(un_dict,Node_point):\n",
    "    matrix=[]\n",
    "    for i in Node_point:\n",
    "        s=[]\n",
    "        for key,values in un_dict.items():\n",
    "            if i in values:\n",
    "                s.append(1)\n",
    "            else:\n",
    "                s.append(0)\n",
    "        matrix.append(s)\n",
    "    return matrix\n",
    "    \n",
    "print(Ac_list_to_matrix(un_dict,Node_point))\n",
    "\n"
   ]
  },
  {
   "cell_type": "code",
   "execution_count": 3,
   "id": "2cb5bed5",
   "metadata": {},
   "outputs": [
    {
     "name": "stdout",
     "output_type": "stream",
     "text": [
      "[0, 1, 0, 0, 1]\n",
      "[1, 0, 1, 0, 1]\n",
      "[0, 1, 0, 1, 0]\n",
      "[0, 0, 1, 0, 0]\n",
      "[1, 1, 0, 0, 0]\n"
     ]
    }
   ],
   "source": [
    "Adjacency_matrix=Ac_list_to_matrix(un_dict,Node_point)\n",
    "for row in Adjacency_matrix:\n",
    "    print(row)"
   ]
  },
  {
   "cell_type": "code",
   "execution_count": 4,
   "id": "a50b5eb4",
   "metadata": {},
   "outputs": [
    {
     "name": "stdout",
     "output_type": "stream",
     "text": [
      "{'s1': ['s2', 's5'], 's2': ['s1', 's3', 's5'], 's3': ['s2', 's4'], 's4': ['s3'], 's5': ['s1', 's2']}\n"
     ]
    }
   ],
   "source": [
    "#2 Adjacency  matrix to adjacency list\n",
    "\n",
    "#Adjancency matrix for undirected condition\n",
    "Ad_un_matrix=[[0,1,0,0,1],[1,0,1,0,1],[0,1,0,1,0],[0,0,1,0,0],[1,1,0,0,0]]\n",
    "\n",
    "def matrix_to_adj_list(Ad_un_matrix, Node_point):\n",
    "    adj_list = {}\n",
    "    n = len(Node_point)\n",
    "    \n",
    "    for i in range(n):\n",
    "        neighbors = []\n",
    "        for j in range(n):\n",
    "            if Ad_un_matrix[i][j] == 1:\n",
    "                neighbors.append(Node_point[j])\n",
    "        adj_list[Node_point[i]] = neighbors\n",
    "    \n",
    "    return adj_list\n",
    "\n",
    "\n",
    "adj_list = matrix_to_adj_list(Ad_un_matrix, Node_point)\n",
    "print(adj_list)\n",
    "\n"
   ]
  },
  {
   "cell_type": "code",
   "execution_count": null,
   "id": "0a7161fa",
   "metadata": {},
   "outputs": [
    {
     "name": "stdout",
     "output_type": "stream",
     "text": [
      "[('s1', 's2'), ('s1', 's5'), ('s2', 's3'), ('s2', 's5'), ('s3', 's4')]\n"
     ]
    }
   ],
   "source": [
    "#3 Adjacency list to edge list\n",
    "# Adjacency list for undirected condition\n",
    "un_dict={\"s1\":[\"s2\",\"s5\"],\"s2\":[\"s1\",\"s3\",\"s5\"],\"s3\":[\"s2\",\"s4\"],\"s4\":[\"s3\"],\"s5\":[\"s1\",\"s2\"]}\n",
    "\n",
    "def adj_list_to_edge_list(un_dict):\n",
    "    edge_list = []\n",
    "    for node in un_dict:\n",
    "        for neighbor in un_dict[node]:\n",
    "            # To avoid duplicates, add edge only if (node, neighbor) is not already added(for undirected condition)\n",
    "            if (neighbor, node) not in edge_list:\n",
    "                edge_list.append((node, neighbor))\n",
    "    return edge_list\n",
    "\n",
    "\n",
    "edges = adj_list_to_edge_list(un_dict)\n",
    "print(edges)\n",
    "\n"
   ]
  },
  {
   "cell_type": "code",
   "execution_count": 8,
   "id": "322a19d7",
   "metadata": {},
   "outputs": [
    {
     "name": "stdout",
     "output_type": "stream",
     "text": [
      "{'s1': ['s2', 's5', 's2', 's5'], 's2': ['s1', 's1', 's3', 's5', 's3', 's5'], 's5': ['s1', 's2', 's1', 's2'], 's3': ['s2', 's2', 's4', 's4'], 's4': ['s3', 's3']}\n"
     ]
    }
   ],
   "source": [
    "#4 Edge list to adjacency list\n",
    "\n",
    "#Edge list for Undirected condition\n",
    "Ed_un_list=[(\"s1\",\"s2\"),(\"s1\",\"s5\"),(\"s2\",\"s1\"),(\"s2\",\"s3\"),(\"s2\",\"s5\"),(\"s3\",\"s2\"),(\"s3\",\"s4\"),(\"s4\",\"s3\"),(\"s5\",\"s1\"),(\"s5\",\"s2\")]\n",
    "\n",
    "def edge_list_to_adj_list(Ed_un_list):\n",
    "    adj_list = {}\n",
    "    for u, v in Ed_un_list:\n",
    "        # Add edge u → v\n",
    "        if u not in adj_list:\n",
    "            adj_list[u] = []\n",
    "        adj_list[u].append(v)\n",
    "        \n",
    "        # Add edge v → u (since it's undirected)\n",
    "        if v not in adj_list:\n",
    "            adj_list[v] = []\n",
    "        adj_list[v].append(u)\n",
    "    \n",
    "    return adj_list\n",
    "\n",
    "\n",
    "\n",
    "adj_list = edge_list_to_adj_list(Ed_un_list)\n",
    "print(adj_list)\n"
   ]
  },
  {
   "cell_type": "code",
   "execution_count": 10,
   "id": "f324a4e8",
   "metadata": {},
   "outputs": [
    {
     "name": "stdout",
     "output_type": "stream",
     "text": [
      "[0, 1, 0, 0, 1]\n",
      "[1, 0, 1, 0, 1]\n",
      "[0, 1, 0, 1, 0]\n",
      "[0, 0, 1, 0, 0]\n",
      "[1, 1, 0, 0, 0]\n"
     ]
    }
   ],
   "source": [
    "#5 Edge list to adjacency matrix\n",
    "nodes = [\"s1\", \"s2\", \"s3\", \"s4\", \"s5\"]\n",
    "#Edge list for Undirected condition\n",
    "Ed_un_list=[(\"s1\",\"s2\"),(\"s1\",\"s5\"),(\"s2\",\"s1\"),(\"s2\",\"s3\"),(\"s2\",\"s5\"),(\"s3\",\"s2\"),(\"s3\",\"s4\"),(\"s4\",\"s3\"),(\"s5\",\"s1\"),(\"s5\",\"s2\")]\n",
    "\n",
    "\n",
    "def edge_list_to_adj_matrix(Ed_un_list, nodes):\n",
    "    # Create an index mapping: node name to index\n",
    "    node_index = {node: idx for idx, node in enumerate(nodes)}\n",
    "    \n",
    "    # Initialize a matrix of zeros\n",
    "    size = len(nodes)\n",
    "    matrix = [[0 for _ in range(size)] for _ in range(size)]\n",
    "\n",
    "    # Fill the matrix based on edges\n",
    "    for u, v in Ed_un_list:\n",
    "        i, j = node_index[u], node_index[v]\n",
    "        matrix[i][j] = 1  # Edge u -> v\n",
    "        matrix[j][i] = 1  # Edge v -> u (undirected)\n",
    "\n",
    "    return matrix\n",
    "\n",
    "\n",
    "\n",
    "adj_matrix = edge_list_to_adj_matrix(Ed_un_list, nodes)\n",
    "\n",
    "# Print \n",
    "for row in adj_matrix:\n",
    "    print(row)\n"
   ]
  },
  {
   "cell_type": "code",
   "execution_count": null,
   "id": "57e3e918",
   "metadata": {},
   "outputs": [
    {
     "name": "stdout",
     "output_type": "stream",
     "text": [
      "[('s1', 's2'), ('s1', 's5'), ('s2', 's3'), ('s2', 's5'), ('s3', 's4')]\n"
     ]
    }
   ],
   "source": [
    "#6 Adjacency_matrix to edge list\n",
    "\n",
    "#Adjancency matrix for undirected condition\n",
    "Ad_un_matrix=[[0,1,0,0,1],[1,0,1,0,1],[0,1,0,1,0],[0,0,1,0,0],[1,1,0,0,0]]\n",
    "\n",
    "\n",
    "\n",
    "def adj_matrix_to_edge_list(Ad_un_matrix, nodes):\n",
    "    edge_list = []\n",
    "    n = len(nodes)\n",
    "    \n",
    "    for i in range(n):\n",
    "        for j in range(i+1, n):  # Use i+1 to avoid duplicate edges (for undirected graph)\n",
    "            if Ad_un_matrix[i][j] == 1:\n",
    "                edge_list.append((nodes[i], nodes[j]))\n",
    "    \n",
    "    return edge_list\n",
    "\n",
    "# Usage\n",
    "edge_list = adj_matrix_to_edge_list(Ad_un_matrix, nodes)\n",
    "print(edge_list)\n"
   ]
  },
  {
   "cell_type": "code",
   "execution_count": null,
   "id": "cd2d707e",
   "metadata": {},
   "outputs": [
    {
     "name": "stdout",
     "output_type": "stream",
     "text": [
      "True\n",
      "False\n"
     ]
    }
   ],
   "source": [
    "#Given a graph and two vertices, check if they are adjacent. \n",
    "\n",
    "# Adjacency list for undirected condition\n",
    "un_dict={\"s1\":[\"s2\",\"s5\"],\"s2\":[\"s1\",\"s3\",\"s5\"],\"s3\":[\"s2\",\"s4\"],\"s4\":[\"s3\"],\"s5\":[\"s1\",\"s2\"]}\n",
    "\n",
    "\n",
    "def are_adjacent(un_dict, u, v):\n",
    "    return v in un_dict.get(u, []) #This gets the list of neighbors of node u\n",
    "\n",
    "print(are_adjacent(un_dict, \"s1\", \"s2\")) \n",
    "print(are_adjacent(un_dict, \"s1\", \"s3\"))  \n"
   ]
  },
  {
   "cell_type": "code",
   "execution_count": 13,
   "id": "d52ff326",
   "metadata": {},
   "outputs": [
    {
     "name": "stdout",
     "output_type": "stream",
     "text": [
      "False\n"
     ]
    }
   ],
   "source": [
    "# Check if a graph is complete.\n",
    "\n",
    "#Adjancency matrix for undirected condition\n",
    "Ad_un_matrix=[[0,1,0,0,1],[1,0,1,0,1],[0,1,0,1,0],[0,0,1,0,0],[1,1,0,0,0]]\n",
    "\n",
    "def is_complete_graph(Ad_un_matrix):\n",
    "    n = len(Ad_un_matrix)\n",
    "    for i in range(n):\n",
    "        for j in range(n):\n",
    "            if i != j and Ad_un_matrix[i][j] != 1:\n",
    "                return False\n",
    "    return True\n",
    "print(is_complete_graph(Ad_un_matrix))\n"
   ]
  },
  {
   "cell_type": "code",
   "execution_count": 15,
   "id": "2318b589",
   "metadata": {},
   "outputs": [
    {
     "name": "stdout",
     "output_type": "stream",
     "text": [
      "True\n"
     ]
    }
   ],
   "source": [
    "#Check if a graph is connected.\n",
    "adj_list = {\n",
    "    \"A\": [\"B\", \"C\"],\n",
    "    \"B\": [\"A\", \"C\"],\n",
    "    \"C\": [\"A\", \"B\"]\n",
    "}\n",
    "\n",
    "\n",
    "def is_connected(adj_list):\n",
    "    visited = set()\n",
    "    \n",
    "    # Start from any one node\n",
    "    start_node = next(iter(adj_list))\n",
    "\n",
    "    def dfs(node):\n",
    "        visited.add(node)\n",
    "        for neighbor in adj_list[node]:\n",
    "            if neighbor not in visited:\n",
    "                dfs(neighbor)\n",
    "\n",
    "    dfs(start_node)\n",
    "\n",
    "    return len(visited) == len(adj_list)\n",
    "print(is_connected(adj_list))\n",
    "\n"
   ]
  },
  {
   "cell_type": "code",
   "execution_count": null,
   "id": "139ae02b",
   "metadata": {},
   "outputs": [
    {
     "name": "stdout",
     "output_type": "stream",
     "text": [
      "Path\n",
      "Walk\n",
      "Walk\n",
      "Not a walk\n"
     ]
    }
   ],
   "source": [
    "# Given a graph and a list of vertices, check if it forms a walk, or a trail or a path or none of these.\n",
    "\n",
    "\n",
    "def check_walk_type(adj_list, vertex_list):\n",
    "    edges_seen = set()\n",
    "    nodes_seen = set()\n",
    "\n",
    "    for i in range(len(vertex_list) - 1):\n",
    "        u = vertex_list[i]\n",
    "        v = vertex_list[i + 1]\n",
    "\n",
    "        # Check if it's a walk (i.e., u and v must be adjacent)\n",
    "        if v not in adj_list.get(u, []):\n",
    "            return \"Not a walk\"\n",
    "\n",
    "        # For trail: check for repeated edges\n",
    "        edge = tuple(sorted((u, v)))\n",
    "        if edge in edges_seen:\n",
    "            is_trail = False\n",
    "        else:\n",
    "            edges_seen.add(edge)\n",
    "\n",
    "        # For path: check for repeated nodes\n",
    "        if v in nodes_seen:\n",
    "            is_path = False\n",
    "        nodes_seen.add(u)\n",
    "\n",
    "    # Evaluate what it is\n",
    "    is_trail = len(edges_seen) == len(vertex_list) - 1\n",
    "    is_path = len(set(vertex_list)) == len(vertex_list)\n",
    "\n",
    "    if is_path:\n",
    "        return \"Path\"\n",
    "    elif is_trail:\n",
    "        return \"Trail\"\n",
    "    else:\n",
    "        return \"Walk\"\n",
    "graph = {\n",
    "    \"A\": [\"B\", \"C\"],\n",
    "    \"B\": [\"A\", \"C\"],\n",
    "    \"C\": [\"A\", \"B\", \"D\"],\n",
    "    \"D\": [\"C\"]\n",
    "}\n",
    "\n",
    "print(check_walk_type(graph, [\"A\", \"B\", \"C\"]))       \n",
    "print(check_walk_type(graph, [\"A\", \"B\", \"A\", \"C\"]))  \n",
    "print(check_walk_type(graph, [\"A\", \"B\", \"C\", \"B\"]))  \n",
    "print(check_walk_type(graph, [\"A\", \"D\"]))            \n"
   ]
  },
  {
   "cell_type": "code",
   "execution_count": null,
   "id": "f7e40dcf",
   "metadata": {},
   "outputs": [
    {
     "name": "stdout",
     "output_type": "stream",
     "text": [
      "True\n"
     ]
    }
   ],
   "source": [
    "#Check if a given graph is a tree.\n",
    "\n",
    "def is_tree(adj_list):\n",
    "    visited = set()      # Set to keep track of visited nodes\n",
    "    parent = {}          # Dictionary to track each node's parent in DFS\n",
    "\n",
    "    # DFS function to traverse the graph and detect cycles\n",
    "    def dfs(node, prev):\n",
    "        visited.add(node)  # Mark the current node as visited\n",
    "        for neighbor in adj_list[node]:  # Check all neighbors of the current node\n",
    "            if neighbor not in visited:\n",
    "                parent[neighbor] = node  # Record parent of the neighbor\n",
    "                if not dfs(neighbor, node):  # Recursively visit the neighbor\n",
    "                    return False  # If a cycle is found in recursion\n",
    "            elif neighbor != prev:\n",
    "                # If neighbor is visited and it's not the parent : cycle found\n",
    "                return False\n",
    "        return True  # No cycle found in this DFS branch\n",
    "\n",
    "    # Start DFS from the first node in the adjacency list\n",
    "    start = next(iter(adj_list))  # Pick any starting node (first one)\n",
    "    if not dfs(start, None):  # If DFS returns False, it means a cycle exists\n",
    "        return False\n",
    "\n",
    "    # After DFS, check if all nodes were visited : graph is connected\n",
    "    return len(visited) == len(adj_list)  # True if connected and acyclic\n",
    "graph = {\n",
    "    \"A\": [\"B\", \"C\"],\n",
    "    \"B\": [\"A\", \"D\"],\n",
    "    \"C\": [\"A\"],\n",
    "    \"D\": [\"B\"]\n",
    "}\n",
    "\n",
    "print(is_tree(graph))  \n"
   ]
  },
  {
   "cell_type": "code",
   "execution_count": null,
   "id": "eb2efee7",
   "metadata": {},
   "outputs": [
    {
     "name": "stdout",
     "output_type": "stream",
     "text": [
      "Spanning Tree Edges: [('A', 'B'), ('B', 'C'), ('C', 'D')]\n"
     ]
    }
   ],
   "source": [
    "\n",
    "# Given a connected cyclic graph, find its spanning tree.\n",
    "def find_spanning_tree(adj_list):\n",
    "    visited = set()  # Set to keep track of visited nodes\n",
    "    spanning_tree = []  # List to store the edges of the spanning tree\n",
    "\n",
    "    def dfs(node):#The DFS stands for Depth-First Search.\n",
    "        visited.add(node)  # Mark the current node as visited\n",
    "        for neighbor in adj_list[node]:  # Explore each neighbor\n",
    "            if neighbor not in visited:\n",
    "                spanning_tree.append((node, neighbor))  # Add edge to spanning tree\n",
    "                dfs(neighbor)  # Recursively visit the neighbor\n",
    "\n",
    "    # Start DFS from any node (pick the first node in the adjacency list)\n",
    "    start_node = next(iter(adj_list))\n",
    "    dfs(start_node)\n",
    "\n",
    "    return spanning_tree  # Return the list of edges forming the spanning tree\n",
    "graph = {\n",
    "    \"A\": [\"B\", \"C\", \"D\"],\n",
    "    \"B\": [\"A\", \"C\"],\n",
    "    \"C\": [\"A\", \"B\", \"D\"],\n",
    "    \"D\": [\"A\", \"C\"]\n",
    "}\n",
    "\n",
    "spanning_tree = find_spanning_tree(graph)\n",
    "print(\"Spanning Tree Edges:\", spanning_tree)\n"
   ]
  },
  {
   "cell_type": "code",
   "execution_count": 19,
   "id": "017f2e63",
   "metadata": {},
   "outputs": [
    {
     "name": "stdout",
     "output_type": "stream",
     "text": [
      "Number of leaf nodes: 3\n"
     ]
    }
   ],
   "source": [
    "#Given a tree, find the number of leaf nodes.\n",
    "def count_leaf_nodes(adj_list):\n",
    "    visited = set()  # Set to keep track of visited nodes\n",
    "    leaf_count = 0   # To count the number of leaf nodes\n",
    "\n",
    "    def dfs(node):\n",
    "        nonlocal leaf_count\n",
    "        visited.add(node)  # Mark the current node as visited\n",
    "        \n",
    "        # If the node has no children (it's a leaf)\n",
    "        if len(adj_list[node]) == 1 and node != list(adj_list.keys())[0]:  # Ignore the root node\n",
    "            leaf_count += 1\n",
    "        \n",
    "        # Visit all the neighbors\n",
    "        for neighbor in adj_list[node]:\n",
    "            if neighbor not in visited:\n",
    "                dfs(neighbor)\n",
    "\n",
    "    # Start DFS from any node (pick the first one)\n",
    "    start_node = next(iter(adj_list))\n",
    "    dfs(start_node)\n",
    "\n",
    "    return leaf_count  # Return the count of leaf nodes\n",
    "# Tree represented as an adjacency list\n",
    "graph = {\n",
    "    \"A\": [\"B\", \"C\"],\n",
    "    \"B\": [\"A\", \"D\", \"E\"],\n",
    "    \"C\": [\"A\"],\n",
    "    \"D\": [\"B\"],\n",
    "    \"E\": [\"B\"]\n",
    "}\n",
    "\n",
    "# Find the number of leaf nodes\n",
    "leaf_nodes = count_leaf_nodes(graph)\n",
    "print(\"Number of leaf nodes:\", leaf_nodes)\n",
    "\n"
   ]
  },
  {
   "cell_type": "code",
   "execution_count": null,
   "id": "b5cabfda",
   "metadata": {},
   "outputs": [
    {
     "name": "stdout",
     "output_type": "stream",
     "text": [
      "True\n"
     ]
    }
   ],
   "source": [
    "#Given a tree, check if it's a binary tree.\n",
    "\n",
    "class Node:\n",
    "    def __init__(self, data):\n",
    "        self.data = data\n",
    "        self.children = []\n",
    "\n",
    "def is_binary_tree(root):\n",
    "    if root is None:\n",
    "        return True  # An empty tree is a binary tree\n",
    "\n",
    "    if len(root.children) > 2:\n",
    "        return False  # More than 2 children = not binary\n",
    "\n",
    "    # Recursively check all children\n",
    "    for child in root.children:\n",
    "        if not is_binary_tree(child):\n",
    "            return False\n",
    "\n",
    "    return True\n",
    "# Create a sample tree\n",
    "root = Node(1)\n",
    "child1 = Node(2)\n",
    "child2 = Node(3)\n",
    "child3 = Node(4)\n",
    "\n",
    "root.children.append(child1)\n",
    "root.children.append(child2)\n",
    "child1.children.append(Node(5))\n",
    "child2.children.append(Node(6))\n",
    "\n",
    "print(is_binary_tree(root))  # Output: True or False\n"
   ]
  },
  {
   "cell_type": "code",
   "execution_count": 21,
   "id": "88ca5754",
   "metadata": {},
   "outputs": [
    {
     "name": "stdout",
     "output_type": "stream",
     "text": [
      "Height of node B: 1\n"
     ]
    }
   ],
   "source": [
    "#Given a tree and a node, find its height.\n",
    "class TreeNode:\n",
    "    def __init__(self, value):\n",
    "        self.value = value\n",
    "        self.left = None\n",
    "        self.right = None\n",
    "\n",
    "def height(node):\n",
    "    if node is None:\n",
    "        return -1  # Convention: height of null is -1\n",
    "    return 1 + max(height(node.left), height(node.right))\n",
    "\n",
    "# Create nodes\n",
    "a = TreeNode(\"A\")\n",
    "b = TreeNode(\"B\")\n",
    "c = TreeNode(\"C\")\n",
    "d = TreeNode(\"D\")\n",
    "e = TreeNode(\"E\")\n",
    "\n",
    "# Build the tree\n",
    "a.left = b\n",
    "a.right = c\n",
    "b.left = d\n",
    "b.right = e\n",
    "\n",
    "# Find height of node B\n",
    "print(\"Height of node B:\", height(b))"
   ]
  },
  {
   "cell_type": "code",
   "execution_count": null,
   "id": "93591a16",
   "metadata": {},
   "outputs": [
    {
     "name": "stdout",
     "output_type": "stream",
     "text": [
      "Depth of node D: 2\n"
     ]
    }
   ],
   "source": [
    "# Given a tree and a node, find its depth.\n",
    "\n",
    "class TreeNode:\n",
    "    def __init__(self, value):\n",
    "        self.value = value\n",
    "        self.left = None\n",
    "        self.right = None\n",
    "\n",
    "# Create the tree\n",
    "a = TreeNode(\"A\")\n",
    "b = TreeNode(\"B\")\n",
    "c = TreeNode(\"C\")\n",
    "d = TreeNode(\"D\")\n",
    "e = TreeNode(\"E\")\n",
    "\n",
    "a.left = b\n",
    "a.right = c\n",
    "b.left = d\n",
    "b.right = e\n",
    "\n",
    "# Function to find depth of a node with target value\n",
    "def find_depth(root, target, depth=0):\n",
    "    if root is None:\n",
    "        return -1  # Not found\n",
    "    if root.value == target:\n",
    "        return depth\n",
    "    # Search in left and right subtree\n",
    "    left = find_depth(root.left, target, depth + 1)\n",
    "    if left != -1:\n",
    "        return left\n",
    "    return find_depth(root.right, target, depth + 1)\n",
    "\n",
    "# Example: Find depth of node \"D\"\n",
    "print(\"Depth of node D:\", find_depth(a, \"D\"))\n"
   ]
  }
 ],
 "metadata": {
  "kernelspec": {
   "display_name": "Python 3",
   "language": "python",
   "name": "python3"
  },
  "language_info": {
   "codemirror_mode": {
    "name": "ipython",
    "version": 3
   },
   "file_extension": ".py",
   "mimetype": "text/x-python",
   "name": "python",
   "nbconvert_exporter": "python",
   "pygments_lexer": "ipython3",
   "version": "3.13.0"
  }
 },
 "nbformat": 4,
 "nbformat_minor": 5
}
